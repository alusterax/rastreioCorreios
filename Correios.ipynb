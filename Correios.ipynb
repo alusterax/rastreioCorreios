{
 "cells": [
  {
   "cell_type": "code",
   "execution_count": 1,
   "metadata": {},
   "outputs": [],
   "source": [
    "import urllib3\n",
    "import json"
   ]
  },
  {
   "cell_type": "code",
   "execution_count": 2,
   "metadata": {},
   "outputs": [],
   "source": [
    "def rastrear(codigo):\n",
    "    http = urllib3.PoolManager()\n",
    "    r = http.request('GET', 'https://linketrack.com/'+codigo+'/json')\n",
    "    return r.data"
   ]
  },
  {
   "cell_type": "code",
   "execution_count": 3,
   "metadata": {},
   "outputs": [],
   "source": [
    "def mostrar(a):\n",
    "    campos = ['data', 'hora', 'local', 'status']\n",
    "    for evento in a['eventos']:\n",
    "        print('\\n'.join([evento[campo] for campo in campos])+'\\n------')"
   ]
  },
  {
   "cell_type": "code",
   "execution_count": 4,
   "metadata": {},
   "outputs": [
    {
     "name": "stdout",
     "output_type": "stream",
     "text": [
      "\n",
      "Digite o código de rastreamento:\n",
      "LB057724797SG\n"
     ]
    }
   ],
   "source": [
    "inp = input('\\nDigite o código de rastreamento:\\n')"
   ]
  },
  {
   "cell_type": "code",
   "execution_count": 5,
   "metadata": {},
   "outputs": [
    {
     "name": "stderr",
     "output_type": "stream",
     "text": [
      "C:\\ProgramData\\Anaconda3\\lib\\site-packages\\urllib3\\connectionpool.py:847: InsecureRequestWarning: Unverified HTTPS request is being made. Adding certificate verification is strongly advised. See: https://urllib3.readthedocs.io/en/latest/advanced-usage.html#ssl-warnings\n",
      "  InsecureRequestWarning)\n"
     ]
    }
   ],
   "source": [
    "dados = json.loads(rastrear(inp))"
   ]
  },
  {
   "cell_type": "code",
   "execution_count": 6,
   "metadata": {},
   "outputs": [
    {
     "name": "stdout",
     "output_type": "stream",
     "text": [
      "16/04/2019\n",
      "10:07\n",
      "CURITIBA / PR\n",
      "Objeto recebido pelos Correios do Brasil\n",
      "------\n",
      "03/04/2019\n",
      "15:43\n",
      "CINGAPURA /\n",
      "Objeto encaminhado  de País em CINGAPURA /  para País em Unidade de Tratamento Internacional / BR\n",
      "------\n"
     ]
    }
   ],
   "source": [
    "mostrar(dados)"
   ]
  }
 ],
 "metadata": {
  "kernelspec": {
   "display_name": "Python 3",
   "language": "python",
   "name": "python3"
  },
  "language_info": {
   "codemirror_mode": {
    "name": "ipython",
    "version": 3
   },
   "file_extension": ".py",
   "mimetype": "text/x-python",
   "name": "python",
   "nbconvert_exporter": "python",
   "pygments_lexer": "ipython3",
   "version": "3.7.1"
  }
 },
 "nbformat": 4,
 "nbformat_minor": 2
}
